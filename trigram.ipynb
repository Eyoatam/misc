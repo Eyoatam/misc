{
 "cells": [
  {
   "cell_type": "code",
   "execution_count": 3,
   "metadata": {},
   "outputs": [],
   "source": [
    "# references: https://github.com/karpathy/makemore\n",
    "\n",
    "words = open('names.txt', 'r').read().splitlines()"
   ]
  },
  {
   "cell_type": "code",
   "execution_count": 4,
   "metadata": {},
   "outputs": [
    {
     "name": "stdout",
     "output_type": "stream",
     "text": [
      "words[:1] = ['emma']\n",
      "len(words) = 32033\n"
     ]
    }
   ],
   "source": [
    "print(f'words[:1] = {words[:1]}')\n",
    "print(f'len(words) = {len(words)}')"
   ]
  },
  {
   "cell_type": "code",
   "execution_count": 5,
   "metadata": {},
   "outputs": [
    {
     "name": "stdout",
     "output_type": "stream",
     "text": [
      "train_set length = 6407, dev_set length = 801, test_set length = 801, total = 32033\n"
     ]
    }
   ],
   "source": [
    "# split dataset\n",
    "\n",
    "import numpy as np\n",
    "from torch.utils.data import Subset, DataLoader\n",
    "\n",
    "indices = np.arange(len(words))\n",
    "indices = np.random.permutation(indices)\n",
    "\n",
    "train_indices = indices[:int(0.8*len(words))]\n",
    "dev_indices = indices[int(0.8*len(words)):int(0.9*len(words))]\n",
    "test_indices = indices[int(0.9*len(words)):int(len(words))]\n",
    "\n",
    "train_set = Subset(words, train_indices)\n",
    "dev_set = Subset(words, dev_indices)\n",
    "test_set = Subset(words, test_indices)\n",
    "\n",
    "train_dl = DataLoader(train_set, batch_size=4, shuffle=True, num_workers=2)\n",
    "dev_dl = DataLoader(dev_set, shuffle=True ,batch_size=4, num_workers=2)\n",
    "test_dl = DataLoader(test_set, shuffle=True,batch_size=4, num_workers=2)\n",
    "\n",
    "print(f'train_set length = {len(train_dl)}, dev_set length = {len(dev_dl)}, test_set length = {len(test_dl)}, total = {len(train_set) + len(dev_set) + len(test_set)}')"
   ]
  },
  {
   "cell_type": "code",
   "execution_count": 6,
   "metadata": {},
   "outputs": [
    {
     "name": "stdout",
     "output_type": "stream",
     "text": [
      "Batch = 0, Value = ['makylah', 'jennavieve', 'adaiah', 'andersen']\n",
      "Batch = 100, Value = ['rayley', 'july', 'jahmari', 'carma']\n",
      "Batch = 200, Value = ['sarim', 'zyrie', 'saunders', 'amiaya']\n",
      "Batch = 300, Value = ['noria', 'rheign', 'samarth', 'eliannie']\n",
      "Batch = 400, Value = ['ajani', 'lojain', 'chiziterem', 'hilario']\n",
      "Batch = 500, Value = ['janai', 'jakiah', 'moshe', 'journie']\n",
      "Batch = 600, Value = ['shmiel', 'mana', 'brenleigh', 'evalina']\n",
      "Batch = 700, Value = ['samyar', 'macklyn', 'corrin', 'zaiah']\n",
      "Batch = 800, Value = ['ryon', 'jaileen', 'nyliah', 'lucis']\n",
      "Batch = 900, Value = ['valaya', 'harlee', 'gowri', 'melly']\n",
      "Batch = 1000, Value = ['brighten', 'kandace', 'hyland', 'jaimie']\n",
      "Batch = 1100, Value = ['feyza', 'stormy', 'dreyah', 'flynn']\n",
      "Batch = 1200, Value = ['raelyn', 'leyna', 'annabella', 'cody']\n",
      "Batch = 1300, Value = ['ramos', 'cashius', 'brynne', 'kalder']\n",
      "Batch = 1400, Value = ['aryani', 'kalana', 'mylez', 'mosley']\n",
      "Batch = 1500, Value = ['ayan', 'thea', 'irelyn', 'gerald']\n",
      "Batch = 1600, Value = ['dedan', 'aamaya', 'nakayah', 'kiko']\n",
      "Batch = 1700, Value = ['rafaella', 'rin', 'nahzir', 'tayshawn']\n",
      "Batch = 1800, Value = ['zyion', 'jyasia', 'zamyiah', 'micky']\n",
      "Batch = 1900, Value = ['dacion', 'charlese', 'desi', 'doaa']\n",
      "Batch = 2000, Value = ['zaul', 'joceline', 'emory', 'ariyanna']\n",
      "Batch = 2100, Value = ['bryan', 'faryn', 'anson', 'destin']\n",
      "Batch = 2200, Value = ['zahli', 'kamdyn', 'saadiq', 'kairie']\n",
      "Batch = 2300, Value = ['eliana', 'timberlee', 'daylen', 'yaretzi']\n",
      "Batch = 2400, Value = ['analyssa', 'raeden', 'covan', 'iveth']\n",
      "Batch = 2500, Value = ['kailie', 'alithea', 'klaryssa', 'ellis']\n",
      "Batch = 2600, Value = ['zander', 'deniz', 'siren', 'kelayah']\n",
      "Batch = 2700, Value = ['ricardo', 'mikelle', 'leonidas', 'ryelyn']\n",
      "Batch = 2800, Value = ['fabian', 'colton', 'sanjeev', 'camber']\n",
      "Batch = 2900, Value = ['saba', 'psalm', 'viyona', 'mckinnon']\n",
      "Batch = 3000, Value = ['aris', 'rhian', 'nianna', 'samatar']\n",
      "Batch = 3100, Value = ['jefe', 'aneesh', 'pau', 'kyana']\n",
      "Batch = 3200, Value = ['nassim', 'kobain', 'mate', 'theoden']\n",
      "Batch = 3300, Value = ['effie', 'jeryl', 'yelina', 'antuan']\n",
      "Batch = 3400, Value = ['maily', 'niaomi', 'abrahm', 'daysha']\n",
      "Batch = 3500, Value = ['gracielynn', 'brecker', 'madicyn', 'jaquarius']\n",
      "Batch = 3600, Value = ['nakshatra', 'mihika', 'bismah', 'noely']\n",
      "Batch = 3700, Value = ['arun', 'farhiya', 'mizael', 'ryley']\n",
      "Batch = 3800, Value = ['ezreal', 'hudson', 'zayven', 'ginger']\n",
      "Batch = 3900, Value = ['alessandra', 'apollos', 'valarie', 'jaye']\n",
      "Batch = 4000, Value = ['matviy', 'tuba', 'jermell', 'ellaina']\n",
      "Batch = 4100, Value = ['lilyan', 'timo', 'vaanya', 'hasaan']\n",
      "Batch = 4200, Value = ['nithya', 'devonna', 'eno', 'zaedyn']\n",
      "Batch = 4300, Value = ['amouri', 'jebediah', 'tritt', 'coyote']\n",
      "Batch = 4400, Value = ['mai', 'breckyn', 'maasai', 'hinda']\n",
      "Batch = 4500, Value = ['arlin', 'yuktha', 'audy', 'aro']\n",
      "Batch = 4600, Value = ['roniel', 'yaremi', 'aryssa', 'abie']\n",
      "Batch = 4700, Value = ['adalys', 'heloisa', 'zora', 'kaesyn']\n",
      "Batch = 4800, Value = ['charley', 'audrie', 'kensy', 'solo']\n",
      "Batch = 4900, Value = ['izzy', 'keerthana', 'yaser', 'baker']\n",
      "Batch = 5000, Value = ['marlow', 'arion', 'ariday', 'apolline']\n",
      "Batch = 5100, Value = ['abdulqadir', 'abigayle', 'blair', 'calvary']\n",
      "Batch = 5200, Value = ['elham', 'strider', 'davarian', 'macarius']\n",
      "Batch = 5300, Value = ['barbie', 'ronit', 'meshal', 'evia']\n",
      "Batch = 5400, Value = ['ned', 'aleece', 'jadrian', 'aziya']\n",
      "Batch = 5500, Value = ['zahi', 'cort', 'eastin', 'kinley']\n",
      "Batch = 5600, Value = ['biruk', 'yumiko', 'bhavya', 'kimya']\n",
      "Batch = 5700, Value = ['bettie', 'stefania', 'perfect', 'ario']\n",
      "Batch = 5800, Value = ['dreamer', 'maysoon', 'trevaughn', 'noahh']\n",
      "Batch = 5900, Value = ['chaz', 'dionicio', 'isara', 'dayzee']\n",
      "Batch = 6000, Value = ['eviee', 'eniya', 'arrianna', 'nuhamin']\n",
      "Batch = 6100, Value = ['taji', 'iva', 'brynn', 'moustapha']\n",
      "Batch = 6200, Value = ['neill', 'briar', 'willard', 'leily']\n",
      "Batch = 6300, Value = ['vail', 'rook', 'berish', 'aleyshka']\n",
      "Batch = 6400, Value = ['ashling', 'maycen', 'tziry', 'toni']\n"
     ]
    }
   ],
   "source": [
    "for batch, V in enumerate(train_dl):\n",
    "  if batch % 100 == 0:\n",
    "    print(f'Batch = {batch}, Value = {V}')"
   ]
  },
  {
   "cell_type": "code",
   "execution_count": 7,
   "metadata": {},
   "outputs": [
    {
     "data": {
      "text/plain": [
       "{1: 'a',\n",
       " 2: 'b',\n",
       " 3: 'c',\n",
       " 4: 'd',\n",
       " 5: 'e',\n",
       " 6: 'f',\n",
       " 7: 'g',\n",
       " 8: 'h',\n",
       " 9: 'i',\n",
       " 10: 'j',\n",
       " 11: 'k',\n",
       " 12: 'l',\n",
       " 13: 'm',\n",
       " 14: 'n',\n",
       " 15: 'o',\n",
       " 16: 'p',\n",
       " 17: 'q',\n",
       " 18: 'r',\n",
       " 19: 's',\n",
       " 20: 't',\n",
       " 21: 'u',\n",
       " 22: 'v',\n",
       " 23: 'w',\n",
       " 24: 'x',\n",
       " 25: 'y',\n",
       " 26: 'z',\n",
       " 0: '.'}"
      ]
     },
     "execution_count": 7,
     "metadata": {},
     "output_type": "execute_result"
    }
   ],
   "source": [
    "import torch\n",
    "\n",
    "N = torch.zeros((27, 27, 27), dtype=torch.int32)\n",
    "\n",
    "chars = sorted(set(list(''.join(words))))\n",
    "stoi = {s:i+1 for i, s in enumerate(chars)}\n",
    "stoi['.'] = 0\n",
    "itos = {i:s for s, i in stoi.items()}\n",
    "itos\n",
    "# stoi"
   ]
  },
  {
   "cell_type": "code",
   "execution_count": 8,
   "metadata": {},
   "outputs": [],
   "source": [
    "for w in words:\n",
    "  chs = ['.'] + list(w) + ['.']\n",
    "  for ch1, ch2, ch3 in zip(chs, chs[1:], chs[2:]):\n",
    "    ix1 = stoi[ch1]\n",
    "    ix2 = stoi[ch2]\n",
    "    ix3 = stoi[ch3]\n",
    "    # print(ix1, ix2, ix3)\n",
    "    N[ix1, ix2, ix3] += 1\n",
    "\n",
    "# N[0, 5, 13]"
   ]
  },
  {
   "cell_type": "code",
   "execution_count": 9,
   "metadata": {},
   "outputs": [
    {
     "data": {
      "text/plain": [
       "torch.Size([27, 27, 27])"
      ]
     },
     "execution_count": 9,
     "metadata": {},
     "output_type": "execute_result"
    }
   ],
   "source": [
    "P = (N+1).float()\n",
    "P /= P.sum(2, keepdims=True)\n",
    "P[0, 0].sum()\n",
    "P.shape"
   ]
  },
  {
   "cell_type": "code",
   "execution_count": 12,
   "metadata": {},
   "outputs": [
    {
     "data": {
      "text/plain": [
       "3"
      ]
     },
     "execution_count": 12,
     "metadata": {},
     "output_type": "execute_result"
    }
   ],
   "source": [
    "g = torch.Generator().manual_seed(2147483647)\n",
    "p = P[0, 0]\n",
    "torch.multinomial(p, num_samples=1, replacement=True, generator=g).item()"
   ]
  },
  {
   "cell_type": "code",
   "execution_count": 13,
   "metadata": {},
   "outputs": [
    {
     "name": "stdout",
     "output_type": "stream",
     "text": [
      "cexzm.\n",
      "zeale.\n",
      "riror.\n",
      "kayha.\n",
      "vinimitta.\n"
     ]
    }
   ],
   "source": [
    "g = torch.Generator().manual_seed(2147483647)\n",
    "for i in range(5):\n",
    "    out =[]\n",
    "    ix1 = 0\n",
    "    ix2 = 0\n",
    "    while True:\n",
    "        p = P[ix1, ix2]\n",
    "        ix1 += 1 # for no obvious reason\n",
    "        ix2 = torch.multinomial(p, num_samples=1, replacement=True, generator=g).item()\n",
    "        out.append(itos[ix2])\n",
    "        if ix2==0:\n",
    "            break\n",
    "    print(''.join(out))"
   ]
  },
  {
   "cell_type": "code",
   "execution_count": 14,
   "metadata": {},
   "outputs": [
    {
     "name": "stdout",
     "output_type": "stream",
     "text": [
      "log_likely_hood=tensor(-410414.9688)\n",
      "nnl=tensor(410414.9688)\n",
      "2.092747449874878\n"
     ]
    }
   ],
   "source": [
    "log_likely_hood = 0.0\n",
    "n = 0\n",
    "\n",
    "for w in words:\n",
    "  chs = ['.'] + list(w) + ['.']\n",
    "  for ch1, ch2, ch3 in zip(chs, chs[1:], chs[2:]):\n",
    "    ix1 = stoi[ch1]\n",
    "    ix2 = stoi[ch2]\n",
    "    ix3 = stoi[ch3]\n",
    "    prob = P[ix1, ix2, ix3]\n",
    "    logprob = torch.log(prob)\n",
    "    log_likely_hood += logprob\n",
    "    n+=1\n",
    "\n",
    "print(f'{log_likely_hood=}')\n",
    "nnl = -log_likely_hood\n",
    "print(f'{nnl=}')\n",
    "print(f'{nnl/n}')"
   ]
  },
  {
   "cell_type": "code",
   "execution_count": 15,
   "metadata": {},
   "outputs": [
    {
     "name": "stdout",
     "output_type": "stream",
     "text": [
      "emma\n"
     ]
    }
   ],
   "source": [
    "xs, ys = [], []\n",
    "\n",
    "for w in words[:1]:\n",
    "  print(w)\n",
    "  chs = ['.'] + list(w) + ['.']\n",
    "  for ch1, ch2, ch3 in zip(chs, chs[1:], chs[2:]):\n",
    "    ix1 = stoi[ch1]\n",
    "    ix2 = stoi[ch2]\n",
    "    ix3 = stoi[ch3]\n",
    "    xs.append(ix1)\n",
    "    xs.append(ix2)\n",
    "    ys.append(ix3)\n",
    "    \n",
    "\n",
    "xs = torch.tensor(xs)\n",
    "ys = torch.tensor(ys)"
   ]
  },
  {
   "cell_type": "code",
   "execution_count": 16,
   "metadata": {},
   "outputs": [],
   "source": [
    "import random\n",
    "\n",
    "ls = []\n",
    "xs, ys = [], []\n",
    "\n",
    "for _, wd in enumerate(train_dl):\n",
    "  xl = random.choice(wd)\n",
    "  ls.append(xl)\n",
    "\n",
    "for w in ls[:1]:\n",
    "  chs = ['.'] + list(w) + ['.']\n",
    "  for ch1, ch2, ch3 in zip(chs, chs[1:], chs[2:]):\n",
    "    ix1 = stoi[ch1]\n",
    "    ix2 = stoi[ch2]\n",
    "    ix3 = stoi[ch3]\n",
    "    xs.append(ix1)\n",
    "    xs.append(ix2)\n",
    "    ys.append(ix3)\n",
    "\n",
    "xs = torch.tensor(xs)\n",
    "ys = torch.tensor(ys)\n",
    "\n",
    "\n",
    "# print(list(ls[:1][0]))\n"
   ]
  },
  {
   "cell_type": "code",
   "execution_count": 17,
   "metadata": {},
   "outputs": [
    {
     "data": {
      "text/plain": [
       "torch.Size([14])"
      ]
     },
     "execution_count": 17,
     "metadata": {},
     "output_type": "execute_result"
    }
   ],
   "source": [
    "xs.shape"
   ]
  },
  {
   "cell_type": "code",
   "execution_count": 18,
   "metadata": {},
   "outputs": [
    {
     "data": {
      "text/plain": [
       "torch.Size([7])"
      ]
     },
     "execution_count": 18,
     "metadata": {},
     "output_type": "execute_result"
    }
   ],
   "source": [
    "ys.shape"
   ]
  },
  {
   "cell_type": "code",
   "execution_count": 19,
   "metadata": {},
   "outputs": [],
   "source": [
    "import torch.nn.functional as F\n",
    "\n",
    "xenc = F.one_hot(xs, num_classes=27).float()\n",
    "yenc = F.one_hot(ys, num_classes=27).float()"
   ]
  },
  {
   "cell_type": "code",
   "execution_count": 21,
   "metadata": {},
   "outputs": [
    {
     "data": {
      "text/plain": [
       "<matplotlib.image.AxesImage at 0x16963a2e0>"
      ]
     },
     "execution_count": 21,
     "metadata": {},
     "output_type": "execute_result"
    },
    {
     "data": {
      "image/png": "[encoded data removed]",
      "text/plain": [
       "<Figure size 640x480 with 1 Axes>"
      ]
     },
     "metadata": {},
     "output_type": "display_data"
    }
   ],
   "source": [
    "import matplotlib.pyplot as plt \n",
    "plt.imshow(xenc)"
   ]
  },
  {
   "cell_type": "code",
   "execution_count": 22,
   "metadata": {},
   "outputs": [
    {
     "data": {
      "text/plain": [
       "torch.Size([14, 27])"
      ]
     },
     "execution_count": 22,
     "metadata": {},
     "output_type": "execute_result"
    }
   ],
   "source": [
    "xenc.shape"
   ]
  },
  {
   "cell_type": "code",
   "execution_count": null,
   "metadata": {},
   "outputs": [],
   "source": [
    "W = torch.randn((27, 27))\n",
    "xenc @ W"
   ]
  },
  {
   "cell_type": "code",
   "execution_count": null,
   "metadata": {},
   "outputs": [],
   "source": [
    "(xenc @ W)[3, 13]"
   ]
  },
  {
   "cell_type": "code",
   "execution_count": 94,
   "metadata": {},
   "outputs": [],
   "source": [
    "g = torch.Generator().manual_seed(2147483647)\n",
    "W = torch.randn((27, 27), generator=g, requires_grad=True)\n",
    "xenc = F.one_hot(xs, num_classes=27).float()\n",
    "logits = W[xs]\n",
    "counts = logits.exp()\n",
    "probs = counts/counts.sum(1, keepdim=True)\n",
    "loss = -probs[torch.arange(ys.shape[0]), ys].log().mean()"
   ]
  },
  {
   "cell_type": "code",
   "execution_count": 95,
   "metadata": {},
   "outputs": [
    {
     "data": {
      "text/plain": [
       "3.9345004558563232"
      ]
     },
     "execution_count": 95,
     "metadata": {},
     "output_type": "execute_result"
    }
   ],
   "source": [
    "loss.item()"
   ]
  },
  {
   "cell_type": "code",
   "execution_count": 75,
   "metadata": {},
   "outputs": [],
   "source": [
    "W.grad = None\n",
    "loss.backward()"
   ]
  },
  {
   "cell_type": "code",
   "execution_count": 76,
   "metadata": {},
   "outputs": [],
   "source": [
    "W.data = -100 * W.grad"
   ]
  },
  {
   "cell_type": "code",
   "execution_count": 103,
   "metadata": {},
   "outputs": [
    {
     "name": "stdout",
     "output_type": "stream",
     "text": [
      "3.5940372943878174\n",
      "3.577622890472412\n",
      "3.561244010925293\n",
      "3.5449016094207764\n",
      "3.528596878051758\n",
      "3.512328624725342\n",
      "3.496098279953003\n",
      "3.479905843734741\n",
      "3.4637510776519775\n",
      "3.4476351737976074\n",
      "3.431558132171631\n",
      "3.415519952774048\n",
      "3.399521827697754\n",
      "3.383563756942749\n",
      "3.367645502090454\n",
      "3.3517677783966064\n",
      "3.3359315395355225\n",
      "3.320136547088623\n",
      "3.3043835163116455\n",
      "3.2886722087860107\n",
      "3.273003339767456\n",
      "3.2573771476745605\n",
      "3.2417945861816406\n",
      "3.226254940032959\n",
      "3.2107596397399902\n",
      "3.195308208465576\n",
      "3.179901599884033\n",
      "3.1645400524139404\n",
      "3.149223566055298\n",
      "3.1339526176452637\n",
      "3.1187281608581543\n",
      "3.1035497188568115\n",
      "3.088418483734131\n",
      "3.073333978652954\n",
      "3.0582971572875977\n",
      "3.0433082580566406\n",
      "3.028367519378662\n",
      "3.013474941253662\n",
      "2.9986321926116943\n",
      "2.983837842941284\n",
      "2.9690937995910645\n",
      "2.954399347305298\n",
      "2.939755439758301\n",
      "2.9251623153686523\n",
      "2.9106197357177734\n",
      "2.8961288928985596\n",
      "2.8816897869110107\n",
      "2.867302417755127\n",
      "2.8529679775238037\n",
      "2.838686466217041\n",
      "2.8244576454162598\n",
      "2.8102822303771973\n",
      "2.7961606979370117\n",
      "2.7820932865142822\n",
      "2.768079996109009\n",
      "2.754121780395508\n",
      "2.740218162536621\n",
      "2.7263705730438232\n",
      "2.712578296661377\n",
      "2.6988418102264404\n",
      "2.685161828994751\n",
      "2.6715381145477295\n",
      "2.6579716205596924\n",
      "2.6444621086120605\n",
      "2.631010055541992\n",
      "2.6176156997680664\n",
      "2.6042795181274414\n",
      "2.591001272201538\n",
      "2.577782154083252\n",
      "2.5646212100982666\n",
      "2.5515196323394775\n",
      "2.5384774208068848\n",
      "2.5254948139190674\n",
      "2.5125715732574463\n",
      "2.499708890914917\n",
      "2.4869065284729004\n",
      "2.4741642475128174\n",
      "2.461482524871826\n",
      "2.448862314224243\n",
      "2.43630313873291\n",
      "2.4238052368164062\n",
      "2.4113688468933105\n",
      "2.398994207382202\n",
      "2.38668155670166\n",
      "2.3744308948516846\n",
      "2.3622424602508545\n",
      "2.350116491317749\n",
      "2.3380534648895264\n",
      "2.326052665710449\n",
      "2.314114809036255\n",
      "2.3022403717041016\n",
      "2.290428876876831\n",
      "2.2786805629730225\n",
      "2.266995906829834\n",
      "2.2553746700286865\n",
      "2.243817090988159\n",
      "2.232323169708252\n",
      "2.220893144607544\n",
      "2.209527015686035\n",
      "2.1982250213623047\n"
     ]
    }
   ],
   "source": [
    "# gradient descent\n",
    "for k in range(100):\n",
    "  \n",
    "  # if loss.item() < 2.05:\n",
    "  #   break\n",
    "  \n",
    "  # forward pass\n",
    "  xenc = F.one_hot(xs, num_classes=27).float() # input to the network: one-hot encoding\n",
    "  logits = W[xs]\n",
    "  # logits = xenc @ W # predict log-counts\n",
    "  counts = logits.exp() # counts, equivalent to N\n",
    "  probs = counts / counts.sum(1, keepdims=True) # probabilities for next character\n",
    "  loss = -probs[torch.arange(ys.shape[0]), ys].log().mean() + 0.01*(W**2).mean()\n",
    "  print(loss.item())\n",
    "  \n",
    "  # backward pass\n",
    "  W.grad = None # set to zero the gradient\n",
    "  loss.backward()\n",
    "  \n",
    "  # update\n",
    "  W.data += -0.08 * W.grad"
   ]
  },
  {
   "cell_type": "code",
   "execution_count": 102,
   "metadata": {},
   "outputs": [
    {
     "name": "stdout",
     "output_type": "stream",
     "text": [
      "zexzmkloglquszipczktxhkmpmzisttt.\n",
      "inmlufbkzkkt.\n",
      "a.\n",
      "pgmxtpucjwtsc.\n",
      "gmtokmxczislwtxugkwpt.\n"
     ]
    }
   ],
   "source": [
    "# finally, sample from the 'neural net' model\n",
    "g = torch.Generator().manual_seed(2147483647)\n",
    "\n",
    "for i in range(5):\n",
    "  \n",
    "  out = []\n",
    "  ix1 = 0\n",
    "  ix2 = 0\n",
    "  while True:\n",
    "  \n",
    "    ix1 = ix2 # for no obvious reason, but it gives better results than `ix2 = ix2`\n",
    "    xenc = F.one_hot(torch.tensor([ix1]), num_classes=27).float()\n",
    "    logits = xenc @ W # predict log-counts\n",
    "    counts = logits.exp() # counts, equivalent to N\n",
    "    p = counts / counts.sum(1, keepdims=True) # probabilities for next character\n",
    "    # ----------\n",
    "    \n",
    "    ix2 = torch.multinomial(p, num_samples=1, replacement=True, generator=g).item()\n",
    "    out.append(itos[ix2])\n",
    "    if ix2 == 0:\n",
    "      break\n",
    "  print(''.join(out))\n",
    "\n",
    " "
   ]
  },
  {
   "cell_type": "code",
   "execution_count": 105,
   "metadata": {},
   "outputs": [
    {
     "name": "stdout",
     "output_type": "stream",
     "text": [
      "--------\n",
      "trigram example 1: .o (indexes 0,15)\n",
      "input to the neural net: 0 1\n",
      "output probabilities from the neural net: tensor([0.0462, 0.0408, 0.0117, 0.0042, 0.0156, 0.0518, 0.0027, 0.0209, 0.0129,\n",
      "        0.0271, 0.0077, 0.0245, 0.0088, 0.0080, 0.0398, 0.1050, 0.0460, 0.0025,\n",
      "        0.0222, 0.0054, 0.0290, 0.0104, 0.0029, 0.0181, 0.0112, 0.3422, 0.0824],\n",
      "       grad_fn=<SelectBackward0>)\n",
      "label (actual next character): 15\n",
      "probability assigned by the net to the the correct character: 0.10495860129594803\n",
      "log likelihood: -2.2541892528533936\n",
      "negative log likelihood: 2.2541892528533936\n",
      "--------\n",
      "trigram example 2: kn (indexes 11,14)\n",
      "input to the neural net: 11 12\n",
      "output probabilities from the neural net: tensor([0.0064, 0.0392, 0.0051, 0.0089, 0.0630, 0.0547, 0.0519, 0.0557, 0.0464,\n",
      "        0.0140, 0.0065, 0.0520, 0.0891, 0.0192, 0.0139, 0.0434, 0.0309, 0.0190,\n",
      "        0.1389, 0.0345, 0.0530, 0.0157, 0.0517, 0.0310, 0.0360, 0.0025, 0.0172],\n",
      "       grad_fn=<SelectBackward0>)\n",
      "label (actual next character): 14\n",
      "probability assigned by the net to the the correct character: 0.013897274620831013\n",
      "log likelihood: -4.276062488555908\n",
      "negative log likelihood: 4.276062488555908\n",
      "--------\n",
      "trigram example 3: ks (indexes 11,19)\n",
      "input to the neural net: 11 12\n",
      "output probabilities from the neural net: tensor([0.0064, 0.0392, 0.0051, 0.0089, 0.0630, 0.0547, 0.0519, 0.0557, 0.0464,\n",
      "        0.0140, 0.0065, 0.0520, 0.0891, 0.0192, 0.0139, 0.0434, 0.0309, 0.0190,\n",
      "        0.1389, 0.0345, 0.0530, 0.0157, 0.0517, 0.0310, 0.0360, 0.0025, 0.0172],\n",
      "       grad_fn=<SelectBackward0>)\n",
      "label (actual next character): 19\n",
      "probability assigned by the net to the the correct character: 0.03447987884283066\n",
      "log likelihood: -3.3673794269561768\n",
      "negative log likelihood: 3.3673794269561768\n",
      "--------\n",
      "trigram example 4: ot (indexes 15,20)\n",
      "input to the neural net: 15 16\n",
      "output probabilities from the neural net: tensor([0.1323, 0.0088, 0.0099, 0.0163, 0.1025, 0.0514, 0.0218, 0.1292, 0.0574,\n",
      "        0.0086, 0.0087, 0.0088, 0.0152, 0.0062, 0.0061, 0.0118, 0.0410, 0.0077,\n",
      "        0.0178, 0.0113, 0.1229, 0.0428, 0.0068, 0.0782, 0.0136, 0.0508, 0.0121],\n",
      "       grad_fn=<SelectBackward0>)\n",
      "label (actual next character): 20\n",
      "probability assigned by the net to the the correct character: 0.12289240211248398\n",
      "log likelihood: -2.0964460372924805\n",
      "negative log likelihood: 2.0964460372924805\n",
      "=========\n",
      "average negative log likelihood, i.e. loss = 2.398815393447876\n"
     ]
    }
   ],
   "source": [
    "# testing the loss on the testing set\n",
    "\n",
    "import random\n",
    "\n",
    "ls = []\n",
    "xs, ys = [], []\n",
    "\n",
    "for _, wd in enumerate(dev_dl):\n",
    "  xl = random.choice(wd)\n",
    "  ls.append(xl)\n",
    "\n",
    "for w in ls[:1]:\n",
    "  chs = ['.'] + list(w) + ['.']\n",
    "  for ch1, ch2, ch3 in zip(chs, chs[1:], chs[2:]):\n",
    "    ix1 = stoi[ch1]\n",
    "    ix2 = stoi[ch2]\n",
    "    ix3 = stoi[ch3]\n",
    "    xs.append(ix1)\n",
    "    xs.append(ix2)\n",
    "    ys.append(ix3)\n",
    "\n",
    "xs = torch.tensor(xs)\n",
    "ys = torch.tensor(ys)\n",
    "\n",
    "\n",
    "nlls = torch.zeros(5)\n",
    "for i in range(4):\n",
    "  # i-th bigram:\n",
    "  x = xs[i].item() # input character index\n",
    "  y = ys[i].item() # label character index\n",
    "  print('--------')\n",
    "  print(f'trigram example {i+1}: {itos[x]}{itos[y]} (indexes {x},{y})')\n",
    "  print('input to the neural net:', x, x+1)\n",
    "  print('output probabilities from the neural net:', probs[i])\n",
    "  print('label (actual next character):', y)\n",
    "  p = probs[i, y]\n",
    "  print('probability assigned by the net to the the correct character:', p.item())\n",
    "  logp = torch.log(p)\n",
    "  print('log likelihood:', logp.item())\n",
    "  nll = -logp\n",
    "  print('negative log likelihood:', nll.item())\n",
    "  nlls[i] = nll\n",
    "\n",
    "print('=========')\n",
    "print('average negative log likelihood, i.e. loss =', nlls.mean().item())"
   ]
  },
  {
   "cell_type": "code",
   "execution_count": null,
   "metadata": {},
   "outputs": [],
   "source": []
  }
 ],
 "metadata": {
  "kernelspec": {
   "display_name": "base",
   "language": "python",
   "name": "python3"
  },
  "language_info": {
   "codemirror_mode": {
    "name": "ipython",
    "version": 3
   },
   "file_extension": ".py",
   "mimetype": "text/x-python",
   "name": "python",
   "nbconvert_exporter": "python",
   "pygments_lexer": "ipython3",
   "version": "3.9.17"
  }
 },
 "nbformat": 4,
 "nbformat_minor": 2
}
